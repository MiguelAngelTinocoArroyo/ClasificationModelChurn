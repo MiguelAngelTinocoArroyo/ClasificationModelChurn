{
  "nbformat": 4,
  "nbformat_minor": 0,
  "metadata": {
    "colab": {
      "name": "model.ipynb",
      "provenance": [],
      "collapsed_sections": []
    },
    "kernelspec": {
      "name": "python3",
      "display_name": "Python 3"
    },
    "language_info": {
      "name": "python"
    }
  },
  "cells": [
    {
      "cell_type": "code",
      "execution_count": 73,
      "metadata": {
        "id": "muWx0A9my_F0"
      },
      "outputs": [],
      "source": [
        "import numpy as np\n",
        "import pandas as pd\n",
        "import matplotlib.pyplot as plt\n",
        "from scipy import stats\n",
        "import seaborn as sns\n",
        "import warnings\n",
        "warnings.filterwarnings(\"ignore\")"
      ]
    },
    {
      "cell_type": "code",
      "source": [
        "df = pd.read_csv('guatedata.csv')\n",
        "df.head()"
      ],
      "metadata": {
        "colab": {
          "base_uri": "https://localhost:8080/",
          "height": 206
        },
        "id": "zGFyhDxhzNjw",
        "outputId": "f0eaefe8-1e46-4a5b-add4-ebc62f37eb7f"
      },
      "execution_count": 74,
      "outputs": [
        {
          "output_type": "execute_result",
          "data": {
            "text/plain": [
              "   vedadc_n  vantig_n  vnline_n      vgamma_c veaseg_c  vctcpl_n  vccdeu_n  \\\n",
              "0      60.0       NaN         1  PREMIUM PLUS        n        45         1   \n",
              "1      66.0       NaN         1          ALTA        n        71         8   \n",
              "2       NaN     141.0         1       PREMIUM        n        73        25   \n",
              "3     116.0       NaN         2           NaN        n         7         0   \n",
              "4      50.0       NaN         3          ALTA        n        42         7   \n",
              "\n",
              "   vccdeu_n.1  ttkbco_n  vtarge_c  \n",
              "0           1   2439779         0  \n",
              "1           8         0         0  \n",
              "2          25         0         0  \n",
              "3           0         0         0  \n",
              "4           7   1969990         0  "
            ],
            "text/html": [
              "\n",
              "  <div id=\"df-702d6ee9-10b5-44ca-a309-b78fe8229dde\">\n",
              "    <div class=\"colab-df-container\">\n",
              "      <div>\n",
              "<style scoped>\n",
              "    .dataframe tbody tr th:only-of-type {\n",
              "        vertical-align: middle;\n",
              "    }\n",
              "\n",
              "    .dataframe tbody tr th {\n",
              "        vertical-align: top;\n",
              "    }\n",
              "\n",
              "    .dataframe thead th {\n",
              "        text-align: right;\n",
              "    }\n",
              "</style>\n",
              "<table border=\"1\" class=\"dataframe\">\n",
              "  <thead>\n",
              "    <tr style=\"text-align: right;\">\n",
              "      <th></th>\n",
              "      <th>vedadc_n</th>\n",
              "      <th>vantig_n</th>\n",
              "      <th>vnline_n</th>\n",
              "      <th>vgamma_c</th>\n",
              "      <th>veaseg_c</th>\n",
              "      <th>vctcpl_n</th>\n",
              "      <th>vccdeu_n</th>\n",
              "      <th>vccdeu_n.1</th>\n",
              "      <th>ttkbco_n</th>\n",
              "      <th>vtarge_c</th>\n",
              "    </tr>\n",
              "  </thead>\n",
              "  <tbody>\n",
              "    <tr>\n",
              "      <th>0</th>\n",
              "      <td>60.0</td>\n",
              "      <td>NaN</td>\n",
              "      <td>1</td>\n",
              "      <td>PREMIUM PLUS</td>\n",
              "      <td>n</td>\n",
              "      <td>45</td>\n",
              "      <td>1</td>\n",
              "      <td>1</td>\n",
              "      <td>2439779</td>\n",
              "      <td>0</td>\n",
              "    </tr>\n",
              "    <tr>\n",
              "      <th>1</th>\n",
              "      <td>66.0</td>\n",
              "      <td>NaN</td>\n",
              "      <td>1</td>\n",
              "      <td>ALTA</td>\n",
              "      <td>n</td>\n",
              "      <td>71</td>\n",
              "      <td>8</td>\n",
              "      <td>8</td>\n",
              "      <td>0</td>\n",
              "      <td>0</td>\n",
              "    </tr>\n",
              "    <tr>\n",
              "      <th>2</th>\n",
              "      <td>NaN</td>\n",
              "      <td>141.0</td>\n",
              "      <td>1</td>\n",
              "      <td>PREMIUM</td>\n",
              "      <td>n</td>\n",
              "      <td>73</td>\n",
              "      <td>25</td>\n",
              "      <td>25</td>\n",
              "      <td>0</td>\n",
              "      <td>0</td>\n",
              "    </tr>\n",
              "    <tr>\n",
              "      <th>3</th>\n",
              "      <td>116.0</td>\n",
              "      <td>NaN</td>\n",
              "      <td>2</td>\n",
              "      <td>NaN</td>\n",
              "      <td>n</td>\n",
              "      <td>7</td>\n",
              "      <td>0</td>\n",
              "      <td>0</td>\n",
              "      <td>0</td>\n",
              "      <td>0</td>\n",
              "    </tr>\n",
              "    <tr>\n",
              "      <th>4</th>\n",
              "      <td>50.0</td>\n",
              "      <td>NaN</td>\n",
              "      <td>3</td>\n",
              "      <td>ALTA</td>\n",
              "      <td>n</td>\n",
              "      <td>42</td>\n",
              "      <td>7</td>\n",
              "      <td>7</td>\n",
              "      <td>1969990</td>\n",
              "      <td>0</td>\n",
              "    </tr>\n",
              "  </tbody>\n",
              "</table>\n",
              "</div>\n",
              "      <button class=\"colab-df-convert\" onclick=\"convertToInteractive('df-702d6ee9-10b5-44ca-a309-b78fe8229dde')\"\n",
              "              title=\"Convert this dataframe to an interactive table.\"\n",
              "              style=\"display:none;\">\n",
              "        \n",
              "  <svg xmlns=\"http://www.w3.org/2000/svg\" height=\"24px\"viewBox=\"0 0 24 24\"\n",
              "       width=\"24px\">\n",
              "    <path d=\"M0 0h24v24H0V0z\" fill=\"none\"/>\n",
              "    <path d=\"M18.56 5.44l.94 2.06.94-2.06 2.06-.94-2.06-.94-.94-2.06-.94 2.06-2.06.94zm-11 1L8.5 8.5l.94-2.06 2.06-.94-2.06-.94L8.5 2.5l-.94 2.06-2.06.94zm10 10l.94 2.06.94-2.06 2.06-.94-2.06-.94-.94-2.06-.94 2.06-2.06.94z\"/><path d=\"M17.41 7.96l-1.37-1.37c-.4-.4-.92-.59-1.43-.59-.52 0-1.04.2-1.43.59L10.3 9.45l-7.72 7.72c-.78.78-.78 2.05 0 2.83L4 21.41c.39.39.9.59 1.41.59.51 0 1.02-.2 1.41-.59l7.78-7.78 2.81-2.81c.8-.78.8-2.07 0-2.86zM5.41 20L4 18.59l7.72-7.72 1.47 1.35L5.41 20z\"/>\n",
              "  </svg>\n",
              "      </button>\n",
              "      \n",
              "  <style>\n",
              "    .colab-df-container {\n",
              "      display:flex;\n",
              "      flex-wrap:wrap;\n",
              "      gap: 12px;\n",
              "    }\n",
              "\n",
              "    .colab-df-convert {\n",
              "      background-color: #E8F0FE;\n",
              "      border: none;\n",
              "      border-radius: 50%;\n",
              "      cursor: pointer;\n",
              "      display: none;\n",
              "      fill: #1967D2;\n",
              "      height: 32px;\n",
              "      padding: 0 0 0 0;\n",
              "      width: 32px;\n",
              "    }\n",
              "\n",
              "    .colab-df-convert:hover {\n",
              "      background-color: #E2EBFA;\n",
              "      box-shadow: 0px 1px 2px rgba(60, 64, 67, 0.3), 0px 1px 3px 1px rgba(60, 64, 67, 0.15);\n",
              "      fill: #174EA6;\n",
              "    }\n",
              "\n",
              "    [theme=dark] .colab-df-convert {\n",
              "      background-color: #3B4455;\n",
              "      fill: #D2E3FC;\n",
              "    }\n",
              "\n",
              "    [theme=dark] .colab-df-convert:hover {\n",
              "      background-color: #434B5C;\n",
              "      box-shadow: 0px 1px 3px 1px rgba(0, 0, 0, 0.15);\n",
              "      filter: drop-shadow(0px 1px 2px rgba(0, 0, 0, 0.3));\n",
              "      fill: #FFFFFF;\n",
              "    }\n",
              "  </style>\n",
              "\n",
              "      <script>\n",
              "        const buttonEl =\n",
              "          document.querySelector('#df-702d6ee9-10b5-44ca-a309-b78fe8229dde button.colab-df-convert');\n",
              "        buttonEl.style.display =\n",
              "          google.colab.kernel.accessAllowed ? 'block' : 'none';\n",
              "\n",
              "        async function convertToInteractive(key) {\n",
              "          const element = document.querySelector('#df-702d6ee9-10b5-44ca-a309-b78fe8229dde');\n",
              "          const dataTable =\n",
              "            await google.colab.kernel.invokeFunction('convertToInteractive',\n",
              "                                                     [key], {});\n",
              "          if (!dataTable) return;\n",
              "\n",
              "          const docLinkHtml = 'Like what you see? Visit the ' +\n",
              "            '<a target=\"_blank\" href=https://colab.research.google.com/notebooks/data_table.ipynb>data table notebook</a>'\n",
              "            + ' to learn more about interactive tables.';\n",
              "          element.innerHTML = '';\n",
              "          dataTable['output_type'] = 'display_data';\n",
              "          await google.colab.output.renderOutput(dataTable, element);\n",
              "          const docLink = document.createElement('div');\n",
              "          docLink.innerHTML = docLinkHtml;\n",
              "          element.appendChild(docLink);\n",
              "        }\n",
              "      </script>\n",
              "    </div>\n",
              "  </div>\n",
              "  "
            ]
          },
          "metadata": {},
          "execution_count": 74
        }
      ]
    },
    {
      "cell_type": "code",
      "source": [
        "df.describe()"
      ],
      "metadata": {
        "colab": {
          "base_uri": "https://localhost:8080/",
          "height": 300
        },
        "id": "jNmr6MGq-R6P",
        "outputId": "f1534844-7dc4-4f42-d2d8-e1baebb59be6"
      },
      "execution_count": 75,
      "outputs": [
        {
          "output_type": "execute_result",
          "data": {
            "text/plain": [
              "         vedadc_n    vantig_n    vnline_n    vctcpl_n    vccdeu_n  vccdeu_n.1  \\\n",
              "count  778.000000  496.000000  926.000000  926.000000  926.000000  926.000000   \n",
              "mean    53.474293  101.177419    1.958963   26.120950    6.304536    6.304536   \n",
              "std     24.626632   44.257155    1.384251   25.315148    9.335670    9.335670   \n",
              "min      0.000000    1.000000    1.000000    0.000000    0.000000    0.000000   \n",
              "25%     40.000000   74.000000    1.000000    9.000000    0.000000    0.000000   \n",
              "50%     53.000000  110.000000    1.000000   19.000000    2.000000    2.000000   \n",
              "75%     63.000000  134.000000    2.000000   35.000000    8.000000    8.000000   \n",
              "max    117.000000  174.000000    7.000000  232.000000   54.000000   54.000000   \n",
              "\n",
              "           ttkbco_n    vtarge_c  \n",
              "count  9.260000e+02  926.000000  \n",
              "mean   1.250424e+06    0.278618  \n",
              "std    2.635760e+06    0.448561  \n",
              "min    0.000000e+00    0.000000  \n",
              "25%    0.000000e+00    0.000000  \n",
              "50%    0.000000e+00    0.000000  \n",
              "75%    1.107301e+06    1.000000  \n",
              "max    1.834643e+07    1.000000  "
            ],
            "text/html": [
              "\n",
              "  <div id=\"df-3143f8e1-e724-4a6f-9d04-d8b4171a8c79\">\n",
              "    <div class=\"colab-df-container\">\n",
              "      <div>\n",
              "<style scoped>\n",
              "    .dataframe tbody tr th:only-of-type {\n",
              "        vertical-align: middle;\n",
              "    }\n",
              "\n",
              "    .dataframe tbody tr th {\n",
              "        vertical-align: top;\n",
              "    }\n",
              "\n",
              "    .dataframe thead th {\n",
              "        text-align: right;\n",
              "    }\n",
              "</style>\n",
              "<table border=\"1\" class=\"dataframe\">\n",
              "  <thead>\n",
              "    <tr style=\"text-align: right;\">\n",
              "      <th></th>\n",
              "      <th>vedadc_n</th>\n",
              "      <th>vantig_n</th>\n",
              "      <th>vnline_n</th>\n",
              "      <th>vctcpl_n</th>\n",
              "      <th>vccdeu_n</th>\n",
              "      <th>vccdeu_n.1</th>\n",
              "      <th>ttkbco_n</th>\n",
              "      <th>vtarge_c</th>\n",
              "    </tr>\n",
              "  </thead>\n",
              "  <tbody>\n",
              "    <tr>\n",
              "      <th>count</th>\n",
              "      <td>778.000000</td>\n",
              "      <td>496.000000</td>\n",
              "      <td>926.000000</td>\n",
              "      <td>926.000000</td>\n",
              "      <td>926.000000</td>\n",
              "      <td>926.000000</td>\n",
              "      <td>9.260000e+02</td>\n",
              "      <td>926.000000</td>\n",
              "    </tr>\n",
              "    <tr>\n",
              "      <th>mean</th>\n",
              "      <td>53.474293</td>\n",
              "      <td>101.177419</td>\n",
              "      <td>1.958963</td>\n",
              "      <td>26.120950</td>\n",
              "      <td>6.304536</td>\n",
              "      <td>6.304536</td>\n",
              "      <td>1.250424e+06</td>\n",
              "      <td>0.278618</td>\n",
              "    </tr>\n",
              "    <tr>\n",
              "      <th>std</th>\n",
              "      <td>24.626632</td>\n",
              "      <td>44.257155</td>\n",
              "      <td>1.384251</td>\n",
              "      <td>25.315148</td>\n",
              "      <td>9.335670</td>\n",
              "      <td>9.335670</td>\n",
              "      <td>2.635760e+06</td>\n",
              "      <td>0.448561</td>\n",
              "    </tr>\n",
              "    <tr>\n",
              "      <th>min</th>\n",
              "      <td>0.000000</td>\n",
              "      <td>1.000000</td>\n",
              "      <td>1.000000</td>\n",
              "      <td>0.000000</td>\n",
              "      <td>0.000000</td>\n",
              "      <td>0.000000</td>\n",
              "      <td>0.000000e+00</td>\n",
              "      <td>0.000000</td>\n",
              "    </tr>\n",
              "    <tr>\n",
              "      <th>25%</th>\n",
              "      <td>40.000000</td>\n",
              "      <td>74.000000</td>\n",
              "      <td>1.000000</td>\n",
              "      <td>9.000000</td>\n",
              "      <td>0.000000</td>\n",
              "      <td>0.000000</td>\n",
              "      <td>0.000000e+00</td>\n",
              "      <td>0.000000</td>\n",
              "    </tr>\n",
              "    <tr>\n",
              "      <th>50%</th>\n",
              "      <td>53.000000</td>\n",
              "      <td>110.000000</td>\n",
              "      <td>1.000000</td>\n",
              "      <td>19.000000</td>\n",
              "      <td>2.000000</td>\n",
              "      <td>2.000000</td>\n",
              "      <td>0.000000e+00</td>\n",
              "      <td>0.000000</td>\n",
              "    </tr>\n",
              "    <tr>\n",
              "      <th>75%</th>\n",
              "      <td>63.000000</td>\n",
              "      <td>134.000000</td>\n",
              "      <td>2.000000</td>\n",
              "      <td>35.000000</td>\n",
              "      <td>8.000000</td>\n",
              "      <td>8.000000</td>\n",
              "      <td>1.107301e+06</td>\n",
              "      <td>1.000000</td>\n",
              "    </tr>\n",
              "    <tr>\n",
              "      <th>max</th>\n",
              "      <td>117.000000</td>\n",
              "      <td>174.000000</td>\n",
              "      <td>7.000000</td>\n",
              "      <td>232.000000</td>\n",
              "      <td>54.000000</td>\n",
              "      <td>54.000000</td>\n",
              "      <td>1.834643e+07</td>\n",
              "      <td>1.000000</td>\n",
              "    </tr>\n",
              "  </tbody>\n",
              "</table>\n",
              "</div>\n",
              "      <button class=\"colab-df-convert\" onclick=\"convertToInteractive('df-3143f8e1-e724-4a6f-9d04-d8b4171a8c79')\"\n",
              "              title=\"Convert this dataframe to an interactive table.\"\n",
              "              style=\"display:none;\">\n",
              "        \n",
              "  <svg xmlns=\"http://www.w3.org/2000/svg\" height=\"24px\"viewBox=\"0 0 24 24\"\n",
              "       width=\"24px\">\n",
              "    <path d=\"M0 0h24v24H0V0z\" fill=\"none\"/>\n",
              "    <path d=\"M18.56 5.44l.94 2.06.94-2.06 2.06-.94-2.06-.94-.94-2.06-.94 2.06-2.06.94zm-11 1L8.5 8.5l.94-2.06 2.06-.94-2.06-.94L8.5 2.5l-.94 2.06-2.06.94zm10 10l.94 2.06.94-2.06 2.06-.94-2.06-.94-.94-2.06-.94 2.06-2.06.94z\"/><path d=\"M17.41 7.96l-1.37-1.37c-.4-.4-.92-.59-1.43-.59-.52 0-1.04.2-1.43.59L10.3 9.45l-7.72 7.72c-.78.78-.78 2.05 0 2.83L4 21.41c.39.39.9.59 1.41.59.51 0 1.02-.2 1.41-.59l7.78-7.78 2.81-2.81c.8-.78.8-2.07 0-2.86zM5.41 20L4 18.59l7.72-7.72 1.47 1.35L5.41 20z\"/>\n",
              "  </svg>\n",
              "      </button>\n",
              "      \n",
              "  <style>\n",
              "    .colab-df-container {\n",
              "      display:flex;\n",
              "      flex-wrap:wrap;\n",
              "      gap: 12px;\n",
              "    }\n",
              "\n",
              "    .colab-df-convert {\n",
              "      background-color: #E8F0FE;\n",
              "      border: none;\n",
              "      border-radius: 50%;\n",
              "      cursor: pointer;\n",
              "      display: none;\n",
              "      fill: #1967D2;\n",
              "      height: 32px;\n",
              "      padding: 0 0 0 0;\n",
              "      width: 32px;\n",
              "    }\n",
              "\n",
              "    .colab-df-convert:hover {\n",
              "      background-color: #E2EBFA;\n",
              "      box-shadow: 0px 1px 2px rgba(60, 64, 67, 0.3), 0px 1px 3px 1px rgba(60, 64, 67, 0.15);\n",
              "      fill: #174EA6;\n",
              "    }\n",
              "\n",
              "    [theme=dark] .colab-df-convert {\n",
              "      background-color: #3B4455;\n",
              "      fill: #D2E3FC;\n",
              "    }\n",
              "\n",
              "    [theme=dark] .colab-df-convert:hover {\n",
              "      background-color: #434B5C;\n",
              "      box-shadow: 0px 1px 3px 1px rgba(0, 0, 0, 0.15);\n",
              "      filter: drop-shadow(0px 1px 2px rgba(0, 0, 0, 0.3));\n",
              "      fill: #FFFFFF;\n",
              "    }\n",
              "  </style>\n",
              "\n",
              "      <script>\n",
              "        const buttonEl =\n",
              "          document.querySelector('#df-3143f8e1-e724-4a6f-9d04-d8b4171a8c79 button.colab-df-convert');\n",
              "        buttonEl.style.display =\n",
              "          google.colab.kernel.accessAllowed ? 'block' : 'none';\n",
              "\n",
              "        async function convertToInteractive(key) {\n",
              "          const element = document.querySelector('#df-3143f8e1-e724-4a6f-9d04-d8b4171a8c79');\n",
              "          const dataTable =\n",
              "            await google.colab.kernel.invokeFunction('convertToInteractive',\n",
              "                                                     [key], {});\n",
              "          if (!dataTable) return;\n",
              "\n",
              "          const docLinkHtml = 'Like what you see? Visit the ' +\n",
              "            '<a target=\"_blank\" href=https://colab.research.google.com/notebooks/data_table.ipynb>data table notebook</a>'\n",
              "            + ' to learn more about interactive tables.';\n",
              "          element.innerHTML = '';\n",
              "          dataTable['output_type'] = 'display_data';\n",
              "          await google.colab.output.renderOutput(dataTable, element);\n",
              "          const docLink = document.createElement('div');\n",
              "          docLink.innerHTML = docLinkHtml;\n",
              "          element.appendChild(docLink);\n",
              "        }\n",
              "      </script>\n",
              "    </div>\n",
              "  </div>\n",
              "  "
            ]
          },
          "metadata": {},
          "execution_count": 75
        }
      ]
    },
    {
      "cell_type": "markdown",
      "source": [
        "# Gráfico de diagnóstico"
      ],
      "metadata": {
        "id": "vtxEGoOA-WRv"
      }
    },
    {
      "cell_type": "code",
      "source": [
        "def diagnostic_plot(df, variable):\n",
        "    plt.figure(figsize = (16,3))\n",
        "    \n",
        "    # Histograma\n",
        "    plt.subplot(1,3,1)\n",
        "    sns.distplot(df[variable], bins = 30)\n",
        "    plt.title('Histograma')\n",
        "    \n",
        "    # Grafica Q-Q\n",
        "    plt.subplot(1,3,2)\n",
        "    stats.probplot(df[variable], dist = 'norm', plot = plt)\n",
        "    \n",
        "    # Grafica de Caja\n",
        "    plt.subplot(1,3,3)\n",
        "    sns.boxplot(y=df[variable])\n",
        "    plt.title('Gráfico de Cajas')"
      ],
      "metadata": {
        "id": "jfUG9NGc-R2y"
      },
      "execution_count": 76,
      "outputs": []
    },
    {
      "cell_type": "code",
      "source": [
        "diagnostic_plot(df, 'vedadc_n')"
      ],
      "metadata": {
        "colab": {
          "base_uri": "https://localhost:8080/",
          "height": 254
        },
        "id": "DVzRhVFi-R0O",
        "outputId": "94f25b59-2559-48e1-a9f3-f572e20464ca"
      },
      "execution_count": 77,
      "outputs": [
        {
          "output_type": "display_data",
          "data": {
            "text/plain": [
              "<Figure size 1152x216 with 3 Axes>"
            ],
            "image/png": "[encoded data removed]"
          },
          "metadata": {
            "needs_background": "light"
          }
        }
      ]
    },
    {
      "cell_type": "code",
      "source": [
        "diagnostic_plot(df, 'vctcpl_n')"
      ],
      "metadata": {
        "colab": {
          "base_uri": "https://localhost:8080/",
          "height": 254
        },
        "id": "sGL5ezIG-Rxx",
        "outputId": "a5700432-8dad-4e31-8897-d537598e09ed"
      },
      "execution_count": 78,
      "outputs": [
        {
          "output_type": "display_data",
          "data": {
            "text/plain": [
              "<Figure size 1152x216 with 3 Axes>"
            ],
            "image/png": "[encoded data removed]"
          },
          "metadata": {
            "needs_background": "light"
          }
        }
      ]
    },
    {
      "cell_type": "code",
      "source": [
        "diagnostic_plot(df, 'vccdeu_n')"
      ],
      "metadata": {
        "colab": {
          "base_uri": "https://localhost:8080/",
          "height": 254
        },
        "id": "Hu7JAS9M-Ru3",
        "outputId": "bd14e3be-954d-4cc5-eea9-9c5c4f11918d"
      },
      "execution_count": 79,
      "outputs": [
        {
          "output_type": "display_data",
          "data": {
            "text/plain": [
              "<Figure size 1152x216 with 3 Axes>"
            ],
            "image/png": "[encoded data removed]"
          },
          "metadata": {
            "needs_background": "light"
          }
        }
      ]
    },
    {
      "cell_type": "code",
      "source": [
        "diagnostic_plot(df, 'ttkbco_n')"
      ],
      "metadata": {
        "colab": {
          "base_uri": "https://localhost:8080/",
          "height": 254
        },
        "id": "TE88HIyR-RsA",
        "outputId": "193f11f2-036b-4a09-bb55-d004ad910107"
      },
      "execution_count": 80,
      "outputs": [
        {
          "output_type": "display_data",
          "data": {
            "text/plain": [
              "<Figure size 1152x216 with 3 Axes>"
            ],
            "image/png": "[encoded data removed]"
          },
          "metadata": {
            "needs_background": "light"
          }
        }
      ]
    },
    {
      "cell_type": "markdown",
      "source": [
        "Función distancia entre cuartiles"
      ],
      "metadata": {
        "id": "NcVeKsG4-nWL"
      }
    },
    {
      "cell_type": "code",
      "source": [
        "def dist_inter_cuartil(df, variable, distancia):\n",
        "    \n",
        "    IQR = df[variable].quantile(0.75) - df[variable].quantile(0.25)\n",
        "    limite_inf = df[variable].quantile(0.50) - (IQR * distancia)\n",
        "    limite_sup = df[variable].quantile(0.75) + (IQR * distancia)\n",
        "    return limite_sup, limite_inf"
      ],
      "metadata": {
        "id": "lJ7sLoeg-qml"
      },
      "execution_count": 81,
      "outputs": []
    },
    {
      "cell_type": "markdown",
      "source": [
        "Encontramos los límites para la variable \"vedadc_n\" (edad de los clientes)"
      ],
      "metadata": {
        "id": "oGw0d6lj-vAL"
      }
    },
    {
      "cell_type": "code",
      "source": [
        "# Encontremos los límites superior e inferior para la variable 'vedadc_n' \n",
        "# (edad de los clientes)\n",
        "\n",
        "age_limite_sup, age_limite_inf = dist_inter_cuartil( df ,'vedadc_n' , 1.5)\n",
        "age_limite_sup, age_limite_inf"
      ],
      "metadata": {
        "colab": {
          "base_uri": "https://localhost:8080/"
        },
        "id": "WTZEUW95-qkz",
        "outputId": "b9dea757-af05-4130-ec8d-b204d0a61c4a"
      },
      "execution_count": 82,
      "outputs": [
        {
          "output_type": "execute_result",
          "data": {
            "text/plain": [
              "(97.5, 18.5)"
            ]
          },
          "metadata": {},
          "execution_count": 82
        }
      ]
    },
    {
      "cell_type": "markdown",
      "source": [
        "Reemplazamos los valores extremos"
      ],
      "metadata": {
        "id": "4Ld1zSNc-4cZ"
      }
    },
    {
      "cell_type": "code",
      "source": [
        "# Reemplazando los valores extremos de la variabe 'vedadc_n' por \n",
        "# los límites máximos y mínimos\n",
        "\n",
        "df['vedadc_n'] = np.where(df['vedadc_n'] > age_limite_sup, age_limite_sup,\n",
        "                 np.where(df['vedadc_n'] < age_limite_inf, age_limite_inf, df['vedadc_n']))"
      ],
      "metadata": {
        "id": "gWRLrjOG-qg8"
      },
      "execution_count": 83,
      "outputs": []
    },
    {
      "cell_type": "code",
      "source": [
        "# Observando las gráficas sin outliers de la variable edad \n",
        "diagnostic_plot(df, 'vedadc_n')"
      ],
      "metadata": {
        "colab": {
          "base_uri": "https://localhost:8080/",
          "height": 254
        },
        "id": "dGOFuqcA-qeV",
        "outputId": "cf002eb2-b93f-4ac2-f27f-9c28e1298428"
      },
      "execution_count": 84,
      "outputs": [
        {
          "output_type": "display_data",
          "data": {
            "text/plain": [
              "<Figure size 1152x216 with 3 Axes>"
            ],
            "image/png": "[encoded data removed]"
          },
          "metadata": {
            "needs_background": "light"
          }
        }
      ]
    },
    {
      "cell_type": "code",
      "source": [
        "df.info()"
      ],
      "metadata": {
        "colab": {
          "base_uri": "https://localhost:8080/"
        },
        "id": "7aUeo6o8-qaK",
        "outputId": "c29e59fb-85d3-4239-94ce-4cb1c8f7545c"
      },
      "execution_count": 85,
      "outputs": [
        {
          "output_type": "stream",
          "name": "stdout",
          "text": [
            "<class 'pandas.core.frame.DataFrame'>\n",
            "RangeIndex: 926 entries, 0 to 925\n",
            "Data columns (total 10 columns):\n",
            " #   Column      Non-Null Count  Dtype  \n",
            "---  ------      --------------  -----  \n",
            " 0   vedadc_n    778 non-null    float64\n",
            " 1   vantig_n    496 non-null    float64\n",
            " 2   vnline_n    926 non-null    int64  \n",
            " 3   vgamma_c    734 non-null    object \n",
            " 4   veaseg_c    926 non-null    object \n",
            " 5   vctcpl_n    926 non-null    int64  \n",
            " 6   vccdeu_n    926 non-null    int64  \n",
            " 7   vccdeu_n.1  926 non-null    int64  \n",
            " 8   ttkbco_n    926 non-null    int64  \n",
            " 9   vtarge_c    926 non-null    int64  \n",
            "dtypes: float64(2), int64(6), object(2)\n",
            "memory usage: 72.5+ KB\n"
          ]
        }
      ]
    },
    {
      "cell_type": "code",
      "source": [
        "# Eliminando las variables \"vantig_n\" por exceso de valores nulos \n",
        "del df['vantig_n']"
      ],
      "metadata": {
        "id": "kGMRfL51_B61"
      },
      "execution_count": 86,
      "outputs": []
    },
    {
      "cell_type": "code",
      "source": [
        "# Existen valores nulos en la variable Numérica:   \"vedadc_n\"\n",
        "# Existen valores nulos en la variable Categórica: \"vgamma_c\"\n",
        "df.isnull().sum()"
      ],
      "metadata": {
        "colab": {
          "base_uri": "https://localhost:8080/"
        },
        "id": "ERuCA-gH_B4v",
        "outputId": "cc405c08-4464-497a-f5f2-a9005becf523"
      },
      "execution_count": 87,
      "outputs": [
        {
          "output_type": "execute_result",
          "data": {
            "text/plain": [
              "vedadc_n      148\n",
              "vnline_n        0\n",
              "vgamma_c      192\n",
              "veaseg_c        0\n",
              "vctcpl_n        0\n",
              "vccdeu_n        0\n",
              "vccdeu_n.1      0\n",
              "ttkbco_n        0\n",
              "vtarge_c        0\n",
              "dtype: int64"
            ]
          },
          "metadata": {},
          "execution_count": 87
        }
      ]
    },
    {
      "cell_type": "markdown",
      "source": [
        "# Imputando valores faltantes con el Método Simple. Imputer"
      ],
      "metadata": {
        "id": "5Oldtp4K_ITE"
      }
    },
    {
      "cell_type": "code",
      "source": [
        "from sklearn.impute import SimpleImputer\n",
        "# Imputador iterativo - Imputación Univariado Numérica\n",
        "imp_univ_num = SimpleImputer(missing_values = np.nan, strategy='median')\n",
        "# Imputador iterativo - Imputación Univariado Categórico\n",
        "imp_univ_cat = SimpleImputer(missing_values = np.nan,strategy='most_frequent')\n",
        "\n",
        "df_impt_num = df[['vedadc_n']]\n",
        "df_impt_cat = df[['vgamma_c']]\n",
        "# Realizamos la imputación univariada V.Numéricas\n",
        "imp_univ_num.fit(df_impt_num)\n",
        "imputed_data_num = pd.DataFrame(data = imp_univ_num.transform(df_impt_num),\n",
        "                columns = df_impt_num.columns, dtype ='float')\n",
        "# Realizamos la imputación univariada V.Categóricas\n",
        "imp_univ_cat.fit(df_impt_cat)\n",
        "imputed_data_cat = pd.DataFrame(data = imp_univ_cat.transform(df_impt_cat),\n",
        "                columns = df_impt_cat.columns, dtype ='object')"
      ],
      "metadata": {
        "id": "G3KrHJzp_B1_"
      },
      "execution_count": 88,
      "outputs": []
    },
    {
      "cell_type": "code",
      "source": [
        "# Eliminando varibles para luego reemplazarlas por\n",
        "# las nuevas variables imputadas\n",
        "del df['vedadc_n']\n",
        "del df['vgamma_c']"
      ],
      "metadata": {
        "id": "fm7o7KTy_Bzj"
      },
      "execution_count": 89,
      "outputs": []
    },
    {
      "cell_type": "code",
      "source": [
        "# Agregando columnas al DataFrame\n",
        "df['vedadc_n'] = imputed_data_num.copy()\n",
        "df['vgamma_c'] = imputed_data_cat.copy()"
      ],
      "metadata": {
        "id": "zislLjTS_Q9o"
      },
      "execution_count": 90,
      "outputs": []
    },
    {
      "cell_type": "code",
      "source": [
        "# Observando las columnas agregadas imputadas\n",
        "df.head(3)"
      ],
      "metadata": {
        "colab": {
          "base_uri": "https://localhost:8080/",
          "height": 143
        },
        "id": "w8kVi_Y1_Q7N",
        "outputId": "318175ac-6bfe-4c60-8a5b-511aae1dcfd2"
      },
      "execution_count": 91,
      "outputs": [
        {
          "output_type": "execute_result",
          "data": {
            "text/plain": [
              "   vnline_n veaseg_c  vctcpl_n  vccdeu_n  vccdeu_n.1  ttkbco_n  vtarge_c  \\\n",
              "0         1        n        45         1           1   2439779         0   \n",
              "1         1        n        71         8           8         0         0   \n",
              "2         1        n        73        25          25         0         0   \n",
              "\n",
              "   vedadc_n      vgamma_c  \n",
              "0      60.0  PREMIUM PLUS  \n",
              "1      66.0          ALTA  \n",
              "2      53.0       PREMIUM  "
            ],
            "text/html": [
              "\n",
              "  <div id=\"df-c59faa6f-d922-4372-af3c-d1214ffb56a6\">\n",
              "    <div class=\"colab-df-container\">\n",
              "      <div>\n",
              "<style scoped>\n",
              "    .dataframe tbody tr th:only-of-type {\n",
              "        vertical-align: middle;\n",
              "    }\n",
              "\n",
              "    .dataframe tbody tr th {\n",
              "        vertical-align: top;\n",
              "    }\n",
              "\n",
              "    .dataframe thead th {\n",
              "        text-align: right;\n",
              "    }\n",
              "</style>\n",
              "<table border=\"1\" class=\"dataframe\">\n",
              "  <thead>\n",
              "    <tr style=\"text-align: right;\">\n",
              "      <th></th>\n",
              "      <th>vnline_n</th>\n",
              "      <th>veaseg_c</th>\n",
              "      <th>vctcpl_n</th>\n",
              "      <th>vccdeu_n</th>\n",
              "      <th>vccdeu_n.1</th>\n",
              "      <th>ttkbco_n</th>\n",
              "      <th>vtarge_c</th>\n",
              "      <th>vedadc_n</th>\n",
              "      <th>vgamma_c</th>\n",
              "    </tr>\n",
              "  </thead>\n",
              "  <tbody>\n",
              "    <tr>\n",
              "      <th>0</th>\n",
              "      <td>1</td>\n",
              "      <td>n</td>\n",
              "      <td>45</td>\n",
              "      <td>1</td>\n",
              "      <td>1</td>\n",
              "      <td>2439779</td>\n",
              "      <td>0</td>\n",
              "      <td>60.0</td>\n",
              "      <td>PREMIUM PLUS</td>\n",
              "    </tr>\n",
              "    <tr>\n",
              "      <th>1</th>\n",
              "      <td>1</td>\n",
              "      <td>n</td>\n",
              "      <td>71</td>\n",
              "      <td>8</td>\n",
              "      <td>8</td>\n",
              "      <td>0</td>\n",
              "      <td>0</td>\n",
              "      <td>66.0</td>\n",
              "      <td>ALTA</td>\n",
              "    </tr>\n",
              "    <tr>\n",
              "      <th>2</th>\n",
              "      <td>1</td>\n",
              "      <td>n</td>\n",
              "      <td>73</td>\n",
              "      <td>25</td>\n",
              "      <td>25</td>\n",
              "      <td>0</td>\n",
              "      <td>0</td>\n",
              "      <td>53.0</td>\n",
              "      <td>PREMIUM</td>\n",
              "    </tr>\n",
              "  </tbody>\n",
              "</table>\n",
              "</div>\n",
              "      <button class=\"colab-df-convert\" onclick=\"convertToInteractive('df-c59faa6f-d922-4372-af3c-d1214ffb56a6')\"\n",
              "              title=\"Convert this dataframe to an interactive table.\"\n",
              "              style=\"display:none;\">\n",
              "        \n",
              "  <svg xmlns=\"http://www.w3.org/2000/svg\" height=\"24px\"viewBox=\"0 0 24 24\"\n",
              "       width=\"24px\">\n",
              "    <path d=\"M0 0h24v24H0V0z\" fill=\"none\"/>\n",
              "    <path d=\"M18.56 5.44l.94 2.06.94-2.06 2.06-.94-2.06-.94-.94-2.06-.94 2.06-2.06.94zm-11 1L8.5 8.5l.94-2.06 2.06-.94-2.06-.94L8.5 2.5l-.94 2.06-2.06.94zm10 10l.94 2.06.94-2.06 2.06-.94-2.06-.94-.94-2.06-.94 2.06-2.06.94z\"/><path d=\"M17.41 7.96l-1.37-1.37c-.4-.4-.92-.59-1.43-.59-.52 0-1.04.2-1.43.59L10.3 9.45l-7.72 7.72c-.78.78-.78 2.05 0 2.83L4 21.41c.39.39.9.59 1.41.59.51 0 1.02-.2 1.41-.59l7.78-7.78 2.81-2.81c.8-.78.8-2.07 0-2.86zM5.41 20L4 18.59l7.72-7.72 1.47 1.35L5.41 20z\"/>\n",
              "  </svg>\n",
              "      </button>\n",
              "      \n",
              "  <style>\n",
              "    .colab-df-container {\n",
              "      display:flex;\n",
              "      flex-wrap:wrap;\n",
              "      gap: 12px;\n",
              "    }\n",
              "\n",
              "    .colab-df-convert {\n",
              "      background-color: #E8F0FE;\n",
              "      border: none;\n",
              "      border-radius: 50%;\n",
              "      cursor: pointer;\n",
              "      display: none;\n",
              "      fill: #1967D2;\n",
              "      height: 32px;\n",
              "      padding: 0 0 0 0;\n",
              "      width: 32px;\n",
              "    }\n",
              "\n",
              "    .colab-df-convert:hover {\n",
              "      background-color: #E2EBFA;\n",
              "      box-shadow: 0px 1px 2px rgba(60, 64, 67, 0.3), 0px 1px 3px 1px rgba(60, 64, 67, 0.15);\n",
              "      fill: #174EA6;\n",
              "    }\n",
              "\n",
              "    [theme=dark] .colab-df-convert {\n",
              "      background-color: #3B4455;\n",
              "      fill: #D2E3FC;\n",
              "    }\n",
              "\n",
              "    [theme=dark] .colab-df-convert:hover {\n",
              "      background-color: #434B5C;\n",
              "      box-shadow: 0px 1px 3px 1px rgba(0, 0, 0, 0.15);\n",
              "      filter: drop-shadow(0px 1px 2px rgba(0, 0, 0, 0.3));\n",
              "      fill: #FFFFFF;\n",
              "    }\n",
              "  </style>\n",
              "\n",
              "      <script>\n",
              "        const buttonEl =\n",
              "          document.querySelector('#df-c59faa6f-d922-4372-af3c-d1214ffb56a6 button.colab-df-convert');\n",
              "        buttonEl.style.display =\n",
              "          google.colab.kernel.accessAllowed ? 'block' : 'none';\n",
              "\n",
              "        async function convertToInteractive(key) {\n",
              "          const element = document.querySelector('#df-c59faa6f-d922-4372-af3c-d1214ffb56a6');\n",
              "          const dataTable =\n",
              "            await google.colab.kernel.invokeFunction('convertToInteractive',\n",
              "                                                     [key], {});\n",
              "          if (!dataTable) return;\n",
              "\n",
              "          const docLinkHtml = 'Like what you see? Visit the ' +\n",
              "            '<a target=\"_blank\" href=https://colab.research.google.com/notebooks/data_table.ipynb>data table notebook</a>'\n",
              "            + ' to learn more about interactive tables.';\n",
              "          element.innerHTML = '';\n",
              "          dataTable['output_type'] = 'display_data';\n",
              "          await google.colab.output.renderOutput(dataTable, element);\n",
              "          const docLink = document.createElement('div');\n",
              "          docLink.innerHTML = docLinkHtml;\n",
              "          element.appendChild(docLink);\n",
              "        }\n",
              "      </script>\n",
              "    </div>\n",
              "  </div>\n",
              "  "
            ]
          },
          "metadata": {},
          "execution_count": 91
        }
      ]
    },
    {
      "cell_type": "code",
      "source": [
        "# Comprobando que no existen valores nulos\n",
        "df.isnull().sum()"
      ],
      "metadata": {
        "colab": {
          "base_uri": "https://localhost:8080/"
        },
        "id": "0K1Puryv_Q43",
        "outputId": "cee26737-898c-475e-a54b-1d7f56a1c9f0"
      },
      "execution_count": 92,
      "outputs": [
        {
          "output_type": "execute_result",
          "data": {
            "text/plain": [
              "vnline_n      0\n",
              "veaseg_c      0\n",
              "vctcpl_n      0\n",
              "vccdeu_n      0\n",
              "vccdeu_n.1    0\n",
              "ttkbco_n      0\n",
              "vtarge_c      0\n",
              "vedadc_n      0\n",
              "vgamma_c      0\n",
              "dtype: int64"
            ]
          },
          "metadata": {},
          "execution_count": 92
        }
      ]
    },
    {
      "cell_type": "markdown",
      "source": [
        "# Transformando variables categóricas en numéricas"
      ],
      "metadata": {
        "id": "sUo2x9eR_Z4h"
      }
    },
    {
      "cell_type": "code",
      "source": [
        "# Observando valores diferentes en las variables\n",
        "print(df['veaseg_c'].unique())\n",
        "print(df['vgamma_c'].unique())"
      ],
      "metadata": {
        "colab": {
          "base_uri": "https://localhost:8080/"
        },
        "id": "pDU5cjTb_brC",
        "outputId": "91193e4d-493b-432f-e872-18b6c0b084e6"
      },
      "execution_count": 93,
      "outputs": [
        {
          "output_type": "stream",
          "name": "stdout",
          "text": [
            "['n' 's' 'no']\n",
            "['PREMIUM PLUS' 'ALTA' 'PREMIUM' 'PRIMIUM PLUS' 'BAJA' 'MEDIA'\n",
            " 'PREMIUN PLUS' 'ALTAa' 'MEDIIA']\n"
          ]
        }
      ]
    },
    {
      "cell_type": "code",
      "source": [
        "# Se observan valores inconsistentes\n",
        "df['vgamma_c'].value_counts() "
      ],
      "metadata": {
        "colab": {
          "base_uri": "https://localhost:8080/"
        },
        "id": "FIfoTT7e_bk-",
        "outputId": "ed32106c-af1e-4efb-c51b-225bed7b1708"
      },
      "execution_count": 94,
      "outputs": [
        {
          "output_type": "execute_result",
          "data": {
            "text/plain": [
              "PREMIUM PLUS    567\n",
              "PREMIUM         214\n",
              "ALTA             91\n",
              "BAJA             29\n",
              "MEDIA            21\n",
              "PRIMIUM PLUS      1\n",
              "PREMIUN PLUS      1\n",
              "ALTAa             1\n",
              "MEDIIA            1\n",
              "Name: vgamma_c, dtype: int64"
            ]
          },
          "metadata": {},
          "execution_count": 94
        }
      ]
    },
    {
      "cell_type": "code",
      "source": [
        "# Reemplazando valores inconsistentes\n",
        "df['vgamma_c'] = df['vgamma_c'].replace(['PRIMIUM PLUS','PREMIUN PLUS','ALTAa','MEDIIA'],\n",
        "                                        ['PREMIUM PLUS','PREMIUM PLUS','ALTA','MEDIA'])"
      ],
      "metadata": {
        "id": "LK3QhAXG_bjS"
      },
      "execution_count": 95,
      "outputs": []
    },
    {
      "cell_type": "code",
      "source": [
        "# Valores corregidos\n",
        "df['vgamma_c'].value_counts() "
      ],
      "metadata": {
        "colab": {
          "base_uri": "https://localhost:8080/"
        },
        "id": "3agk1oIz_i26",
        "outputId": "a8d73796-3bac-48d3-f217-6a1c6e72d4a6"
      },
      "execution_count": 96,
      "outputs": [
        {
          "output_type": "execute_result",
          "data": {
            "text/plain": [
              "PREMIUM PLUS    569\n",
              "PREMIUM         214\n",
              "ALTA             92\n",
              "BAJA             29\n",
              "MEDIA            22\n",
              "Name: vgamma_c, dtype: int64"
            ]
          },
          "metadata": {},
          "execution_count": 96
        }
      ]
    },
    {
      "cell_type": "code",
      "source": [
        "# Reemplazando los \"nan\" por la variable más frecuente (moda)\n",
        "df['vgamma_c'] = df['vgamma_c'].fillna('PREMIUM PLUS')"
      ],
      "metadata": {
        "id": "oBBMmixD_i0o"
      },
      "execution_count": 97,
      "outputs": []
    },
    {
      "cell_type": "code",
      "source": [
        "# Observando valores diferentes en las variables categóricas\n",
        "print(df['veaseg_c'].unique())\n",
        "print(df['vgamma_c'].unique())"
      ],
      "metadata": {
        "colab": {
          "base_uri": "https://localhost:8080/"
        },
        "id": "0xPlmtTY_p88",
        "outputId": "0c5f56d7-cb3b-4466-c1cd-7c8162f6830e"
      },
      "execution_count": 98,
      "outputs": [
        {
          "output_type": "stream",
          "name": "stdout",
          "text": [
            "['n' 's' 'no']\n",
            "['PREMIUM PLUS' 'ALTA' 'PREMIUM' 'BAJA' 'MEDIA']\n"
          ]
        }
      ]
    },
    {
      "cell_type": "code",
      "source": [
        "from sklearn.preprocessing import LabelEncoder\n",
        "from sklearn import preprocessing\n",
        "\n",
        "le = preprocessing.LabelEncoder()\n",
        "df['veaseg_c'] = le.fit_transform(df.veaseg_c.values)\n",
        "df['vgamma_c'] = le.fit_transform(df.vgamma_c.values)"
      ],
      "metadata": {
        "id": "5lLDLkKR_p6O"
      },
      "execution_count": 99,
      "outputs": []
    },
    {
      "cell_type": "code",
      "source": [
        "\"\"\" Para la variable \"veaseg_c\":\n",
        "    n  = 0\n",
        "    s  = 2\n",
        "    no = 1\n",
        "\n",
        "    Para la variable \"vgamma_c\":\n",
        "    PREMIUM PLUS = 4\n",
        "    ALTA         = 0\n",
        "    PREMIUM      = 3\n",
        "    BAJA         = 1\n",
        "    MEDIA        = 2\n",
        "\"\"\"\n",
        "print(df['veaseg_c'].unique())\n",
        "print(df['vgamma_c'].unique())"
      ],
      "metadata": {
        "colab": {
          "base_uri": "https://localhost:8080/"
        },
        "id": "bPuzyhv2_p4F",
        "outputId": "7aba6d93-3407-43be-8f5a-694749a1a602"
      },
      "execution_count": 100,
      "outputs": [
        {
          "output_type": "stream",
          "name": "stdout",
          "text": [
            "[0 2 1]\n",
            "[4 0 3 1 2]\n"
          ]
        }
      ]
    },
    {
      "cell_type": "markdown",
      "source": [
        "# Matriz de Correlación"
      ],
      "metadata": {
        "id": "IZuYcHiR_1gO"
      }
    },
    {
      "cell_type": "code",
      "source": [
        "plt.rcParams['figure.figsize']= 12,8  \n",
        "plt.rcParams['font.size'] = 14\n",
        "\n",
        "df_small = df.iloc[:,:12]\n",
        "correlation = df.corr()\n",
        "sns.heatmap(correlation, annot=True, cmap=sns.color_palette(\"rocket_r\",as_cmap=True)) \n",
        "plt.show()"
      ],
      "metadata": {
        "colab": {
          "base_uri": "https://localhost:8080/",
          "height": 558
        },
        "id": "gRNzwdDS_pzf",
        "outputId": "810ed231-3cb8-4da8-f59c-8b643398683f"
      },
      "execution_count": 101,
      "outputs": [
        {
          "output_type": "display_data",
          "data": {
            "text/plain": [
              "<Figure size 864x576 with 2 Axes>"
            ],
            "image/png": "[encoded data removed]"
          },
          "metadata": {
            "needs_background": "light"
          }
        }
      ]
    },
    {
      "cell_type": "code",
      "source": [
        "# Eliminando las variables \"vccdeu_n.1\", \"vctcpl_n\" por colinealidad\n",
        "del df['vccdeu_n.1']\n",
        "del df['vctcpl_n']"
      ],
      "metadata": {
        "id": "G8-xQ7yw_89K"
      },
      "execution_count": 102,
      "outputs": []
    },
    {
      "cell_type": "code",
      "source": [
        "# Ya no existen variables con fuerte colinealidad\n",
        "plt.rcParams['figure.figsize']= 11,6 \n",
        "plt.rcParams['font.size'] = 14\n",
        "\n",
        "df_small = df.iloc[:,:12]\n",
        "correlation = df.corr()\n",
        "sns.heatmap(correlation, annot=True, cmap=sns.color_palette(\"rocket_r\",as_cmap=True)) \n",
        "plt.show()"
      ],
      "metadata": {
        "colab": {
          "base_uri": "https://localhost:8080/",
          "height": 446
        },
        "id": "cnQrq7Cw_86v",
        "outputId": "933c1d71-ec57-41bc-9281-9f7cfcb39288"
      },
      "execution_count": 103,
      "outputs": [
        {
          "output_type": "display_data",
          "data": {
            "text/plain": [
              "<Figure size 792x432 with 2 Axes>"
            ],
            "image/png": "[encoded data removed]"
          },
          "metadata": {
            "needs_background": "light"
          }
        }
      ]
    },
    {
      "cell_type": "markdown",
      "source": [
        "# Balanceo por el método SMOTE"
      ],
      "metadata": {
        "id": "eOeBo9nhAMzz"
      }
    },
    {
      "cell_type": "code",
      "source": [
        "# Observando los datos sin balancear\n",
        "plt.figure(figsize=(6,5))\n",
        "sns.countplot(x='vtarge_c', data = df, palette = 'hls')\n",
        "plt.show()"
      ],
      "metadata": {
        "colab": {
          "base_uri": "https://localhost:8080/",
          "height": 347
        },
        "id": "FwCkr4PK_83q",
        "outputId": "b2ae6ed7-f2fe-49c5-997b-ca84d1f656aa"
      },
      "execution_count": 104,
      "outputs": [
        {
          "output_type": "display_data",
          "data": {
            "text/plain": [
              "<Figure size 432x360 with 1 Axes>"
            ],
            "image/png": "[encoded data removed]"
          },
          "metadata": {
            "needs_background": "light"
          }
        }
      ]
    },
    {
      "cell_type": "code",
      "source": [
        "# Separando la variables predictoras y la variable predictiva \n",
        "df_X = df.drop(['vtarge_c'], axis=1)\n",
        "df_y = df['vtarge_c']\n",
        "df_X.head()"
      ],
      "metadata": {
        "colab": {
          "base_uri": "https://localhost:8080/",
          "height": 206
        },
        "id": "YjLvU8K__8zq",
        "outputId": "c16e45cf-b376-418f-a69c-c0084eb84c50"
      },
      "execution_count": 105,
      "outputs": [
        {
          "output_type": "execute_result",
          "data": {
            "text/plain": [
              "   vnline_n  veaseg_c  vccdeu_n  ttkbco_n  vedadc_n  vgamma_c\n",
              "0         1         0         1   2439779      60.0         4\n",
              "1         1         0         8         0      66.0         0\n",
              "2         1         0        25         0      53.0         3\n",
              "3         2         0         0         0      97.5         4\n",
              "4         3         0         7   1969990      50.0         0"
            ],
            "text/html": [
              "\n",
              "  <div id=\"df-26476bbd-f54b-4c82-9a09-d2dc6e2e60e2\">\n",
              "    <div class=\"colab-df-container\">\n",
              "      <div>\n",
              "<style scoped>\n",
              "    .dataframe tbody tr th:only-of-type {\n",
              "        vertical-align: middle;\n",
              "    }\n",
              "\n",
              "    .dataframe tbody tr th {\n",
              "        vertical-align: top;\n",
              "    }\n",
              "\n",
              "    .dataframe thead th {\n",
              "        text-align: right;\n",
              "    }\n",
              "</style>\n",
              "<table border=\"1\" class=\"dataframe\">\n",
              "  <thead>\n",
              "    <tr style=\"text-align: right;\">\n",
              "      <th></th>\n",
              "      <th>vnline_n</th>\n",
              "      <th>veaseg_c</th>\n",
              "      <th>vccdeu_n</th>\n",
              "      <th>ttkbco_n</th>\n",
              "      <th>vedadc_n</th>\n",
              "      <th>vgamma_c</th>\n",
              "    </tr>\n",
              "  </thead>\n",
              "  <tbody>\n",
              "    <tr>\n",
              "      <th>0</th>\n",
              "      <td>1</td>\n",
              "      <td>0</td>\n",
              "      <td>1</td>\n",
              "      <td>2439779</td>\n",
              "      <td>60.0</td>\n",
              "      <td>4</td>\n",
              "    </tr>\n",
              "    <tr>\n",
              "      <th>1</th>\n",
              "      <td>1</td>\n",
              "      <td>0</td>\n",
              "      <td>8</td>\n",
              "      <td>0</td>\n",
              "      <td>66.0</td>\n",
              "      <td>0</td>\n",
              "    </tr>\n",
              "    <tr>\n",
              "      <th>2</th>\n",
              "      <td>1</td>\n",
              "      <td>0</td>\n",
              "      <td>25</td>\n",
              "      <td>0</td>\n",
              "      <td>53.0</td>\n",
              "      <td>3</td>\n",
              "    </tr>\n",
              "    <tr>\n",
              "      <th>3</th>\n",
              "      <td>2</td>\n",
              "      <td>0</td>\n",
              "      <td>0</td>\n",
              "      <td>0</td>\n",
              "      <td>97.5</td>\n",
              "      <td>4</td>\n",
              "    </tr>\n",
              "    <tr>\n",
              "      <th>4</th>\n",
              "      <td>3</td>\n",
              "      <td>0</td>\n",
              "      <td>7</td>\n",
              "      <td>1969990</td>\n",
              "      <td>50.0</td>\n",
              "      <td>0</td>\n",
              "    </tr>\n",
              "  </tbody>\n",
              "</table>\n",
              "</div>\n",
              "      <button class=\"colab-df-convert\" onclick=\"convertToInteractive('df-26476bbd-f54b-4c82-9a09-d2dc6e2e60e2')\"\n",
              "              title=\"Convert this dataframe to an interactive table.\"\n",
              "              style=\"display:none;\">\n",
              "        \n",
              "  <svg xmlns=\"http://www.w3.org/2000/svg\" height=\"24px\"viewBox=\"0 0 24 24\"\n",
              "       width=\"24px\">\n",
              "    <path d=\"M0 0h24v24H0V0z\" fill=\"none\"/>\n",
              "    <path d=\"M18.56 5.44l.94 2.06.94-2.06 2.06-.94-2.06-.94-.94-2.06-.94 2.06-2.06.94zm-11 1L8.5 8.5l.94-2.06 2.06-.94-2.06-.94L8.5 2.5l-.94 2.06-2.06.94zm10 10l.94 2.06.94-2.06 2.06-.94-2.06-.94-.94-2.06-.94 2.06-2.06.94z\"/><path d=\"M17.41 7.96l-1.37-1.37c-.4-.4-.92-.59-1.43-.59-.52 0-1.04.2-1.43.59L10.3 9.45l-7.72 7.72c-.78.78-.78 2.05 0 2.83L4 21.41c.39.39.9.59 1.41.59.51 0 1.02-.2 1.41-.59l7.78-7.78 2.81-2.81c.8-.78.8-2.07 0-2.86zM5.41 20L4 18.59l7.72-7.72 1.47 1.35L5.41 20z\"/>\n",
              "  </svg>\n",
              "      </button>\n",
              "      \n",
              "  <style>\n",
              "    .colab-df-container {\n",
              "      display:flex;\n",
              "      flex-wrap:wrap;\n",
              "      gap: 12px;\n",
              "    }\n",
              "\n",
              "    .colab-df-convert {\n",
              "      background-color: #E8F0FE;\n",
              "      border: none;\n",
              "      border-radius: 50%;\n",
              "      cursor: pointer;\n",
              "      display: none;\n",
              "      fill: #1967D2;\n",
              "      height: 32px;\n",
              "      padding: 0 0 0 0;\n",
              "      width: 32px;\n",
              "    }\n",
              "\n",
              "    .colab-df-convert:hover {\n",
              "      background-color: #E2EBFA;\n",
              "      box-shadow: 0px 1px 2px rgba(60, 64, 67, 0.3), 0px 1px 3px 1px rgba(60, 64, 67, 0.15);\n",
              "      fill: #174EA6;\n",
              "    }\n",
              "\n",
              "    [theme=dark] .colab-df-convert {\n",
              "      background-color: #3B4455;\n",
              "      fill: #D2E3FC;\n",
              "    }\n",
              "\n",
              "    [theme=dark] .colab-df-convert:hover {\n",
              "      background-color: #434B5C;\n",
              "      box-shadow: 0px 1px 3px 1px rgba(0, 0, 0, 0.15);\n",
              "      filter: drop-shadow(0px 1px 2px rgba(0, 0, 0, 0.3));\n",
              "      fill: #FFFFFF;\n",
              "    }\n",
              "  </style>\n",
              "\n",
              "      <script>\n",
              "        const buttonEl =\n",
              "          document.querySelector('#df-26476bbd-f54b-4c82-9a09-d2dc6e2e60e2 button.colab-df-convert');\n",
              "        buttonEl.style.display =\n",
              "          google.colab.kernel.accessAllowed ? 'block' : 'none';\n",
              "\n",
              "        async function convertToInteractive(key) {\n",
              "          const element = document.querySelector('#df-26476bbd-f54b-4c82-9a09-d2dc6e2e60e2');\n",
              "          const dataTable =\n",
              "            await google.colab.kernel.invokeFunction('convertToInteractive',\n",
              "                                                     [key], {});\n",
              "          if (!dataTable) return;\n",
              "\n",
              "          const docLinkHtml = 'Like what you see? Visit the ' +\n",
              "            '<a target=\"_blank\" href=https://colab.research.google.com/notebooks/data_table.ipynb>data table notebook</a>'\n",
              "            + ' to learn more about interactive tables.';\n",
              "          element.innerHTML = '';\n",
              "          dataTable['output_type'] = 'display_data';\n",
              "          await google.colab.output.renderOutput(dataTable, element);\n",
              "          const docLink = document.createElement('div');\n",
              "          docLink.innerHTML = docLinkHtml;\n",
              "          element.appendChild(docLink);\n",
              "        }\n",
              "      </script>\n",
              "    </div>\n",
              "  </div>\n",
              "  "
            ]
          },
          "metadata": {},
          "execution_count": 105
        }
      ]
    },
    {
      "cell_type": "code",
      "source": [
        "from imblearn.over_sampling import SMOTE\n",
        "\n",
        "smote = SMOTE(random_state = 100)\n",
        "X_sm, y_sm = smote.fit_resample(df_X, df_y)"
      ],
      "metadata": {
        "id": "GQ7jdVEFAVBR"
      },
      "execution_count": 106,
      "outputs": []
    },
    {
      "cell_type": "code",
      "source": [
        "# Concatenando la información\n",
        "df_balanceada = pd.concat([X_sm, y_sm], axis = 1)"
      ],
      "metadata": {
        "id": "kHHz1S9LAU_B"
      },
      "execution_count": 107,
      "outputs": []
    },
    {
      "cell_type": "code",
      "source": [
        "# Observando los datos balanceados\n",
        "plt.figure(figsize=(6,5))\n",
        "sns.countplot(x='vtarge_c', data = df_balanceada, palette = 'hls')\n",
        "plt.show()"
      ],
      "metadata": {
        "colab": {
          "base_uri": "https://localhost:8080/",
          "height": 347
        },
        "id": "VbS7TAJIAU5x",
        "outputId": "bcb0e161-629e-41e9-ab1c-ca01e147aa23"
      },
      "execution_count": 108,
      "outputs": [
        {
          "output_type": "display_data",
          "data": {
            "text/plain": [
              "<Figure size 432x360 with 1 Axes>"
            ],
            "image/png": "[encoded data removed]"
          },
          "metadata": {
            "needs_background": "light"
          }
        }
      ]
    },
    {
      "cell_type": "code",
      "source": [
        "# Nueva cantidad de datos al ser balanceados\n",
        "df_balanceada.vtarge_c.value_counts()"
      ],
      "metadata": {
        "colab": {
          "base_uri": "https://localhost:8080/"
        },
        "id": "7oe9msXQAU1u",
        "outputId": "d851b57f-8a08-4d2a-ec5c-3ba5b319949b"
      },
      "execution_count": 109,
      "outputs": [
        {
          "output_type": "execute_result",
          "data": {
            "text/plain": [
              "0    668\n",
              "1    668\n",
              "Name: vtarge_c, dtype: int64"
            ]
          },
          "metadata": {},
          "execution_count": 109
        }
      ]
    },
    {
      "cell_type": "code",
      "source": [
        "# Separando la variables predictoras y la variable predictiva \n",
        "X = df_balanceada.drop(['vtarge_c'], axis=1)\n",
        "y = df_balanceada['vtarge_c']"
      ],
      "metadata": {
        "id": "SsynnOa0AUzL"
      },
      "execution_count": 110,
      "outputs": []
    },
    {
      "cell_type": "markdown",
      "source": [
        "# Estandarizando variables"
      ],
      "metadata": {
        "id": "vWD7icbhAqYN"
      }
    },
    {
      "cell_type": "code",
      "source": [
        "from sklearn.preprocessing import MinMaxScaler\n",
        "scaler = MinMaxScaler()\n",
        "X_scaler = scaler.fit_transform(X)\n",
        "X_scaler = pd.DataFrame(X_scaler)\n",
        "X_scaler.columns = X.columns"
      ],
      "metadata": {
        "id": "ob7Lwk8pAuIZ"
      },
      "execution_count": 111,
      "outputs": []
    },
    {
      "cell_type": "code",
      "source": [
        "X1 = X_scaler.copy()\n",
        "y1 = y.copy()\n",
        "X1.shape, y1.shape"
      ],
      "metadata": {
        "colab": {
          "base_uri": "https://localhost:8080/"
        },
        "id": "eHNSgw27Axpi",
        "outputId": "0420f4a5-f5ff-4fb9-ccc8-6878fbcfd109"
      },
      "execution_count": 112,
      "outputs": [
        {
          "output_type": "execute_result",
          "data": {
            "text/plain": [
              "((1336, 6), (1336,))"
            ]
          },
          "metadata": {},
          "execution_count": 112
        }
      ]
    },
    {
      "cell_type": "code",
      "source": [
        "from sklearn.ensemble import RandomForestClassifier\n",
        "\n",
        "forest = RandomForestClassifier(random_state = 100)\n",
        "forest.fit(X1, y1)"
      ],
      "metadata": {
        "colab": {
          "base_uri": "https://localhost:8080/"
        },
        "id": "J_a5fWFSA4iJ",
        "outputId": "3f5f0ce6-51ee-4be3-d299-13ca69c253b4"
      },
      "execution_count": 113,
      "outputs": [
        {
          "output_type": "execute_result",
          "data": {
            "text/plain": [
              "RandomForestClassifier(random_state=100)"
            ]
          },
          "metadata": {},
          "execution_count": 113
        }
      ]
    },
    {
      "cell_type": "code",
      "source": [
        "# Selección de variables importantes por XG Boost\n",
        "forest.feature_importances_"
      ],
      "metadata": {
        "colab": {
          "base_uri": "https://localhost:8080/"
        },
        "id": "j6v6nn4jA7hl",
        "outputId": "9535b92c-7e7b-493e-fcb7-d4f113fcf85b"
      },
      "execution_count": 114,
      "outputs": [
        {
          "output_type": "execute_result",
          "data": {
            "text/plain": [
              "array([0.07592106, 0.00751481, 0.17801759, 0.26272547, 0.3744681 ,\n",
              "       0.10135296])"
            ]
          },
          "metadata": {},
          "execution_count": 114
        }
      ]
    },
    {
      "cell_type": "code",
      "source": [
        "# Creando tabla de Importancia de Variables\n",
        "TablaImportancia = pd.concat([pd.DataFrame({'Features': list(X1)}),\n",
        "                              pd.DataFrame({'Importancia': list(forest.feature_importances_)})], axis = 1)\n",
        "ImportVariables = TablaImportancia[['Features','Importancia']].sort_values('Importancia',ascending=False).reset_index(drop=True)\n",
        "ImportVariables"
      ],
      "metadata": {
        "colab": {
          "base_uri": "https://localhost:8080/",
          "height": 238
        },
        "id": "4MH2vRwtBAJo",
        "outputId": "4386e571-6925-44ee-cdb2-b100d759c441"
      },
      "execution_count": 115,
      "outputs": [
        {
          "output_type": "execute_result",
          "data": {
            "text/plain": [
              "   Features  Importancia\n",
              "0  vedadc_n     0.374468\n",
              "1  ttkbco_n     0.262725\n",
              "2  vccdeu_n     0.178018\n",
              "3  vgamma_c     0.101353\n",
              "4  vnline_n     0.075921\n",
              "5  veaseg_c     0.007515"
            ],
            "text/html": [
              "\n",
              "  <div id=\"df-e609d59e-e64a-49e2-931c-0aa6cb36d75a\">\n",
              "    <div class=\"colab-df-container\">\n",
              "      <div>\n",
              "<style scoped>\n",
              "    .dataframe tbody tr th:only-of-type {\n",
              "        vertical-align: middle;\n",
              "    }\n",
              "\n",
              "    .dataframe tbody tr th {\n",
              "        vertical-align: top;\n",
              "    }\n",
              "\n",
              "    .dataframe thead th {\n",
              "        text-align: right;\n",
              "    }\n",
              "</style>\n",
              "<table border=\"1\" class=\"dataframe\">\n",
              "  <thead>\n",
              "    <tr style=\"text-align: right;\">\n",
              "      <th></th>\n",
              "      <th>Features</th>\n",
              "      <th>Importancia</th>\n",
              "    </tr>\n",
              "  </thead>\n",
              "  <tbody>\n",
              "    <tr>\n",
              "      <th>0</th>\n",
              "      <td>vedadc_n</td>\n",
              "      <td>0.374468</td>\n",
              "    </tr>\n",
              "    <tr>\n",
              "      <th>1</th>\n",
              "      <td>ttkbco_n</td>\n",
              "      <td>0.262725</td>\n",
              "    </tr>\n",
              "    <tr>\n",
              "      <th>2</th>\n",
              "      <td>vccdeu_n</td>\n",
              "      <td>0.178018</td>\n",
              "    </tr>\n",
              "    <tr>\n",
              "      <th>3</th>\n",
              "      <td>vgamma_c</td>\n",
              "      <td>0.101353</td>\n",
              "    </tr>\n",
              "    <tr>\n",
              "      <th>4</th>\n",
              "      <td>vnline_n</td>\n",
              "      <td>0.075921</td>\n",
              "    </tr>\n",
              "    <tr>\n",
              "      <th>5</th>\n",
              "      <td>veaseg_c</td>\n",
              "      <td>0.007515</td>\n",
              "    </tr>\n",
              "  </tbody>\n",
              "</table>\n",
              "</div>\n",
              "      <button class=\"colab-df-convert\" onclick=\"convertToInteractive('df-e609d59e-e64a-49e2-931c-0aa6cb36d75a')\"\n",
              "              title=\"Convert this dataframe to an interactive table.\"\n",
              "              style=\"display:none;\">\n",
              "        \n",
              "  <svg xmlns=\"http://www.w3.org/2000/svg\" height=\"24px\"viewBox=\"0 0 24 24\"\n",
              "       width=\"24px\">\n",
              "    <path d=\"M0 0h24v24H0V0z\" fill=\"none\"/>\n",
              "    <path d=\"M18.56 5.44l.94 2.06.94-2.06 2.06-.94-2.06-.94-.94-2.06-.94 2.06-2.06.94zm-11 1L8.5 8.5l.94-2.06 2.06-.94-2.06-.94L8.5 2.5l-.94 2.06-2.06.94zm10 10l.94 2.06.94-2.06 2.06-.94-2.06-.94-.94-2.06-.94 2.06-2.06.94z\"/><path d=\"M17.41 7.96l-1.37-1.37c-.4-.4-.92-.59-1.43-.59-.52 0-1.04.2-1.43.59L10.3 9.45l-7.72 7.72c-.78.78-.78 2.05 0 2.83L4 21.41c.39.39.9.59 1.41.59.51 0 1.02-.2 1.41-.59l7.78-7.78 2.81-2.81c.8-.78.8-2.07 0-2.86zM5.41 20L4 18.59l7.72-7.72 1.47 1.35L5.41 20z\"/>\n",
              "  </svg>\n",
              "      </button>\n",
              "      \n",
              "  <style>\n",
              "    .colab-df-container {\n",
              "      display:flex;\n",
              "      flex-wrap:wrap;\n",
              "      gap: 12px;\n",
              "    }\n",
              "\n",
              "    .colab-df-convert {\n",
              "      background-color: #E8F0FE;\n",
              "      border: none;\n",
              "      border-radius: 50%;\n",
              "      cursor: pointer;\n",
              "      display: none;\n",
              "      fill: #1967D2;\n",
              "      height: 32px;\n",
              "      padding: 0 0 0 0;\n",
              "      width: 32px;\n",
              "    }\n",
              "\n",
              "    .colab-df-convert:hover {\n",
              "      background-color: #E2EBFA;\n",
              "      box-shadow: 0px 1px 2px rgba(60, 64, 67, 0.3), 0px 1px 3px 1px rgba(60, 64, 67, 0.15);\n",
              "      fill: #174EA6;\n",
              "    }\n",
              "\n",
              "    [theme=dark] .colab-df-convert {\n",
              "      background-color: #3B4455;\n",
              "      fill: #D2E3FC;\n",
              "    }\n",
              "\n",
              "    [theme=dark] .colab-df-convert:hover {\n",
              "      background-color: #434B5C;\n",
              "      box-shadow: 0px 1px 3px 1px rgba(0, 0, 0, 0.15);\n",
              "      filter: drop-shadow(0px 1px 2px rgba(0, 0, 0, 0.3));\n",
              "      fill: #FFFFFF;\n",
              "    }\n",
              "  </style>\n",
              "\n",
              "      <script>\n",
              "        const buttonEl =\n",
              "          document.querySelector('#df-e609d59e-e64a-49e2-931c-0aa6cb36d75a button.colab-df-convert');\n",
              "        buttonEl.style.display =\n",
              "          google.colab.kernel.accessAllowed ? 'block' : 'none';\n",
              "\n",
              "        async function convertToInteractive(key) {\n",
              "          const element = document.querySelector('#df-e609d59e-e64a-49e2-931c-0aa6cb36d75a');\n",
              "          const dataTable =\n",
              "            await google.colab.kernel.invokeFunction('convertToInteractive',\n",
              "                                                     [key], {});\n",
              "          if (!dataTable) return;\n",
              "\n",
              "          const docLinkHtml = 'Like what you see? Visit the ' +\n",
              "            '<a target=\"_blank\" href=https://colab.research.google.com/notebooks/data_table.ipynb>data table notebook</a>'\n",
              "            + ' to learn more about interactive tables.';\n",
              "          element.innerHTML = '';\n",
              "          dataTable['output_type'] = 'display_data';\n",
              "          await google.colab.output.renderOutput(dataTable, element);\n",
              "          const docLink = document.createElement('div');\n",
              "          docLink.innerHTML = docLinkHtml;\n",
              "          element.appendChild(docLink);\n",
              "        }\n",
              "      </script>\n",
              "    </div>\n",
              "  </div>\n",
              "  "
            ]
          },
          "metadata": {},
          "execution_count": 115
        }
      ]
    },
    {
      "cell_type": "code",
      "source": [
        "# Partición de Datos: Train, Test\n",
        "from sklearn.model_selection import train_test_split\n",
        "\n",
        "X_train, X_test, y_train, y_test = train_test_split(X1, y1, stratify = y1,\n",
        "                                                    test_size = 0.3, random_state = 100)"
      ],
      "metadata": {
        "id": "vrRy5oITBDJX"
      },
      "execution_count": 116,
      "outputs": []
    },
    {
      "cell_type": "code",
      "source": [
        "# Cantidad de datos de entrenamiento \n",
        "X_train.shape, y_train.shape"
      ],
      "metadata": {
        "colab": {
          "base_uri": "https://localhost:8080/"
        },
        "id": "hLapzZtWBFrc",
        "outputId": "25fb125e-b7c6-493c-e11d-cea4d0c51c20"
      },
      "execution_count": 117,
      "outputs": [
        {
          "output_type": "execute_result",
          "data": {
            "text/plain": [
              "((935, 6), (935,))"
            ]
          },
          "metadata": {},
          "execution_count": 117
        }
      ]
    },
    {
      "cell_type": "markdown",
      "source": [
        "# Cross Validation"
      ],
      "metadata": {
        "id": "mT3nOnh-BJPZ"
      }
    },
    {
      "cell_type": "code",
      "source": [
        "from sklearn.model_selection import GridSearchCV\n",
        "# Definiendo parámetros a probar\n",
        "parameters = {'max_depth': list(range(2, 15)), \n",
        "              'min_samples_split': list(range(2, 10)),   \n",
        "              'max_features': list(range(3, 8)),\n",
        "              'min_samples_leaf': list(range(1, 10))}        "
      ],
      "metadata": {
        "id": "iTgh2AveBK6E"
      },
      "execution_count": 118,
      "outputs": []
    },
    {
      "cell_type": "code",
      "source": [
        "# Definiendo el modelo\n",
        "from sklearn.tree import DecisionTreeClassifier\n",
        "dtree = DecisionTreeClassifier(random_state = 100)"
      ],
      "metadata": {
        "id": "HZS2FlcBBK37"
      },
      "execution_count": 119,
      "outputs": []
    },
    {
      "cell_type": "code",
      "source": [
        "# Ejecutando Grid Search\n",
        "import time\n",
        "inicio = time.time()\n",
        "\n",
        "GridSearch = GridSearchCV(dtree, parameters,\n",
        "                          cv = 5,\n",
        "                          n_jobs = -1,\n",
        "                          scoring  = 'accuracy',\n",
        "                          refit = True ,\n",
        "                          return_train_score = True)\n",
        "\n",
        "GridSearch.fit(X_train, y_train.ravel())\n",
        "\n",
        "fin = time.time()\n",
        "print('El tiempo de ejecución es: ', (fin-inicio), 'segundos') "
      ],
      "metadata": {
        "colab": {
          "base_uri": "https://localhost:8080/"
        },
        "id": "hhznaN8DBK13",
        "outputId": "854dc44b-ec7d-4f76-d137-de00778aa593"
      },
      "execution_count": 120,
      "outputs": [
        {
          "output_type": "stream",
          "name": "stdout",
          "text": [
            "El tiempo de ejecución es:  131.1185028553009 segundos\n"
          ]
        }
      ]
    },
    {
      "cell_type": "code",
      "source": [
        "# Mejores parámetros:\n",
        "print('Los mejores parámetros son :', GridSearch.best_params_)\n",
        "print('Con el mejor auc : ', GridSearch.best_score_)"
      ],
      "metadata": {
        "colab": {
          "base_uri": "https://localhost:8080/"
        },
        "id": "R4KoGnIZBKzE",
        "outputId": "2ff32230-2c9b-4a26-cb71-a6f5123e5507"
      },
      "execution_count": 121,
      "outputs": [
        {
          "output_type": "stream",
          "name": "stdout",
          "text": [
            "Los mejores parámetros son : {'max_depth': 7, 'max_features': 5, 'min_samples_leaf': 1, 'min_samples_split': 2}\n",
            "Con el mejor auc :  0.8117647058823529\n"
          ]
        }
      ]
    },
    {
      "cell_type": "markdown",
      "source": [
        "# Entrenando el modelo Random Forest"
      ],
      "metadata": {
        "id": "gnak3XpoBcHD"
      }
    },
    {
      "cell_type": "code",
      "source": [
        "from sklearn.ensemble import RandomForestClassifier\n",
        "\n",
        "rf = RandomForestClassifier(n_estimators = 100, \n",
        "                            max_depth = 7,\n",
        "                            criterion = 'gini', \n",
        "                            min_samples_leaf = 1,   # número mínimo de muestras requeridas para un nodo hoja válido\n",
        "                            min_samples_split = 10,  # número mínimo de muestras requeridas para dividir un nodo hoja\n",
        "                            max_features = 5,\n",
        "                            bootstrap = True,       # muestreo aleatorio\n",
        "                            oob_score = True,\n",
        "                            n_jobs = -1,\n",
        "                            random_state = 100)\n",
        "rf.fit(X_train, y_train)"
      ],
      "metadata": {
        "colab": {
          "base_uri": "https://localhost:8080/"
        },
        "id": "YClDnT6jBKui",
        "outputId": "8afefe6b-205c-483d-9f90-179d8b80a39b"
      },
      "execution_count": 122,
      "outputs": [
        {
          "output_type": "execute_result",
          "data": {
            "text/plain": [
              "RandomForestClassifier(max_depth=7, max_features=5, min_samples_split=10,\n",
              "                       n_jobs=-1, oob_score=True, random_state=100)"
            ]
          },
          "metadata": {},
          "execution_count": 122
        }
      ]
    },
    {
      "cell_type": "code",
      "source": [
        "# Entrenando el algoritmo para validar\n",
        "y_predict_train = rf.predict(X_train)   # Predicción sobre el train\n",
        "y_predict_test  = rf.predict(X_test)    # Predicción sobre el test "
      ],
      "metadata": {
        "id": "tyUg2wRsBg0H"
      },
      "execution_count": 123,
      "outputs": []
    },
    {
      "cell_type": "code",
      "source": [
        "from sklearn.metrics import accuracy_score\n",
        "# Calculando el Accurary \n",
        "print('Accuracy Train :', accuracy_score(y_train, y_predict_train))\n",
        "print('Accuracy Test  :', accuracy_score(y_test, y_predict_test))"
      ],
      "metadata": {
        "colab": {
          "base_uri": "https://localhost:8080/"
        },
        "id": "Jl3zQ9s3Bitc",
        "outputId": "9dad28c6-1553-4bbf-8e70-380cccb9e198"
      },
      "execution_count": 124,
      "outputs": [
        {
          "output_type": "stream",
          "name": "stdout",
          "text": [
            "Accuracy Train : 0.8652406417112299\n",
            "Accuracy Test  : 0.8379052369077307\n"
          ]
        }
      ]
    },
    {
      "cell_type": "code",
      "source": [
        "# Calculando la precisión \n",
        "from sklearn.metrics import precision_score\n",
        "print('Precisión train :', precision_score(y_train, y_predict_train))\n",
        "print('Precisión test  :', precision_score(y_test, y_predict_test))"
      ],
      "metadata": {
        "colab": {
          "base_uri": "https://localhost:8080/"
        },
        "id": "Pjbn28EjBjX6",
        "outputId": "81bf1c5a-fab3-41e2-a0b3-24912b2f8376"
      },
      "execution_count": 125,
      "outputs": [
        {
          "output_type": "stream",
          "name": "stdout",
          "text": [
            "Precisión train : 0.8190298507462687\n",
            "Precisión test  : 0.7947598253275109\n"
          ]
        }
      ]
    },
    {
      "cell_type": "code",
      "source": [
        "# Calculando el recall\n",
        "from sklearn.metrics import recall_score\n",
        "print('Recall train :', recall_score(y_train, y_predict_train))\n",
        "print('Recall test  :', recall_score(y_test, y_predict_test))"
      ],
      "metadata": {
        "colab": {
          "base_uri": "https://localhost:8080/"
        },
        "id": "UMzFDXp0BjV6",
        "outputId": "89421f63-5afc-473f-a7c6-83a6ded59e10"
      },
      "execution_count": 126,
      "outputs": [
        {
          "output_type": "stream",
          "name": "stdout",
          "text": [
            "Recall train : 0.938034188034188\n",
            "Recall test  : 0.91\n"
          ]
        }
      ]
    },
    {
      "cell_type": "markdown",
      "source": [
        "Cuadro Comparativo para train:"
      ],
      "metadata": {
        "id": "kwe91X56BoTP"
      }
    },
    {
      "cell_type": "code",
      "source": [
        "from sklearn.metrics import classification_report\n",
        "report_train = classification_report(y_train, y_predict_train)\n",
        "print(report_train) "
      ],
      "metadata": {
        "colab": {
          "base_uri": "https://localhost:8080/"
        },
        "id": "ZlfhK4m0BjT1",
        "outputId": "ddd26d18-51cc-4811-c356-c1984dbea6b4"
      },
      "execution_count": 127,
      "outputs": [
        {
          "output_type": "stream",
          "name": "stdout",
          "text": [
            "              precision    recall  f1-score   support\n",
            "\n",
            "           0       0.93      0.79      0.85       467\n",
            "           1       0.82      0.94      0.87       468\n",
            "\n",
            "    accuracy                           0.87       935\n",
            "   macro avg       0.87      0.87      0.86       935\n",
            "weighted avg       0.87      0.87      0.86       935\n",
            "\n"
          ]
        }
      ]
    },
    {
      "cell_type": "markdown",
      "source": [
        "Cuadro Comparativo para test:"
      ],
      "metadata": {
        "id": "GkQLse0QBsTs"
      }
    },
    {
      "cell_type": "code",
      "source": [
        "report_test = classification_report(y_test, y_predict_test)\n",
        "print(report_test)"
      ],
      "metadata": {
        "colab": {
          "base_uri": "https://localhost:8080/"
        },
        "id": "N6OiqknUBjRy",
        "outputId": "315e884d-84e2-4cad-a8c8-70d6b7773659"
      },
      "execution_count": 128,
      "outputs": [
        {
          "output_type": "stream",
          "name": "stdout",
          "text": [
            "              precision    recall  f1-score   support\n",
            "\n",
            "           0       0.90      0.77      0.83       201\n",
            "           1       0.79      0.91      0.85       200\n",
            "\n",
            "    accuracy                           0.84       401\n",
            "   macro avg       0.85      0.84      0.84       401\n",
            "weighted avg       0.85      0.84      0.84       401\n",
            "\n"
          ]
        }
      ]
    },
    {
      "cell_type": "code",
      "source": [
        "from sklearn.metrics import confusion_matrix\n",
        "# Matriz de confusión train \n",
        "m_confusion_train = confusion_matrix(y_train, y_predict_train)"
      ],
      "metadata": {
        "id": "E-eYhUeEBjOo"
      },
      "execution_count": 129,
      "outputs": []
    },
    {
      "cell_type": "code",
      "source": [
        "plt.figure(figsize=(6,5)) \n",
        "ax= plt.subplot()\n",
        "sns.heatmap(m_confusion_train, annot=True, ax = ax, cmap=sns.color_palette(\"rocket_r\", as_cmap=True), fmt='g')\n",
        "ax.set_xlabel('Predicción', fontweight='bold', fontsize=16)\n",
        "ax.set_ylabel('Real', fontsize=16, fontweight='bold')\n",
        "ax.set_title('Matriz de Confusión', fontsize=16, fontweight='bold')\n",
        "ax.xaxis.set_ticklabels(['Si producto', 'No producto'], fontsize=14)\n",
        "ax.yaxis.set_ticklabels(['Si producto', 'No producto'], fontsize=14)\n",
        "plt.show()"
      ],
      "metadata": {
        "colab": {
          "base_uri": "https://localhost:8080/",
          "height": 361
        },
        "id": "qmNf10DzBjLo",
        "outputId": "2c020b66-4854-4525-cc76-c5c22ac6d431"
      },
      "execution_count": 130,
      "outputs": [
        {
          "output_type": "display_data",
          "data": {
            "text/plain": [
              "<Figure size 432x360 with 2 Axes>"
            ],
            "image/png": "[encoded data removed]"
          },
          "metadata": {
            "needs_background": "light"
          }
        }
      ]
    },
    {
      "cell_type": "code",
      "source": [
        "# Matriz de confusión test \n",
        "m_confusion_test = confusion_matrix(y_test, y_predict_test)"
      ],
      "metadata": {
        "id": "iZ28FVFpB6Pt"
      },
      "execution_count": 131,
      "outputs": []
    },
    {
      "cell_type": "code",
      "source": [
        "plt.figure(figsize=(6,5)) \n",
        "ax= plt.subplot()\n",
        "sns.heatmap(m_confusion_test, annot=True, ax = ax, cmap=sns.color_palette(\"rocket_r\", as_cmap=True), fmt='g')\n",
        "ax.set_xlabel('Predicción', fontweight='bold', fontsize=16)\n",
        "ax.set_ylabel('Real', fontsize=16, fontweight='bold')\n",
        "ax.set_title('Matriz de Confusión', fontsize=16, fontweight='bold')\n",
        "ax.xaxis.set_ticklabels(['Si producto', 'No producto'], fontsize=14)\n",
        "ax.yaxis.set_ticklabels(['Si producto', 'No producto'], fontsize=14)\n",
        "plt.show()"
      ],
      "metadata": {
        "colab": {
          "base_uri": "https://localhost:8080/",
          "height": 361
        },
        "id": "YWOyazX0B6M5",
        "outputId": "a7758367-c7aa-466e-bc7e-81c81a31eb7e"
      },
      "execution_count": 132,
      "outputs": [
        {
          "output_type": "display_data",
          "data": {
            "text/plain": [
              "<Figure size 432x360 with 2 Axes>"
            ],
            "image/png": "[encoded data removed]"
          },
          "metadata": {
            "needs_background": "light"
          }
        }
      ]
    },
    {
      "cell_type": "code",
      "source": [
        "from sklearn.metrics import roc_curve\n",
        "from sklearn.metrics import roc_auc_score\n",
        "\n",
        "auc = roc_auc_score(y_test, y_predict_test)\n",
        "fpr, tpr, threshold = roc_curve(y_test, y_predict_test)\n",
        "plt.figure(figsize = (6,4))\n",
        "plt.plot(fpr, tpr, color = 'green', label = 'auc (area = %0.4f)' % auc) \n",
        "plt.plot([0, 1], [0, 1], color='darkblue', linestyle='--')\n",
        "plt.title('Curva ROC', fontsize=15)\n",
        "plt.xlabel('False Positive Rate', fontsize=14)\n",
        "plt.ylabel('True Positive Rate', fontsize=14)\n",
        "plt.legend()\n",
        "plt.show()"
      ],
      "metadata": {
        "colab": {
          "base_uri": "https://localhost:8080/",
          "height": 305
        },
        "id": "bKBpbH4MB-do",
        "outputId": "ea3dc801-c354-46cd-c7ad-89f8359667d6"
      },
      "execution_count": 133,
      "outputs": [
        {
          "output_type": "display_data",
          "data": {
            "text/plain": [
              "<Figure size 432x288 with 1 Axes>"
            ],
            "image/png": "[encoded data removed]"
          },
          "metadata": {
            "needs_background": "light"
          }
        }
      ]
    },
    {
      "cell_type": "code",
      "source": [
        "# Hacer un archivo pickle de nuestro modelo\n",
        "import pickle\n",
        "pickle.dump(rf, open(\"model.pkl\", \"wb\"))"
      ],
      "metadata": {
        "id": "TQhYqQ42CAmF"
      },
      "execution_count": 134,
      "outputs": []
    }
  ]
}